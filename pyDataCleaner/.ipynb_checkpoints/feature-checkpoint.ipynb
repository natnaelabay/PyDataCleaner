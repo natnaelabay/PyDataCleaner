{
 "cells": [
  {
   "cell_type": "code",
   "execution_count": 2,
   "id": "mobile-victoria",
   "metadata": {},
   "outputs": [],
   "source": [
    "from sklearn.datasets import make_regression\n",
    "from sklearn.model_selection import train_test_split"
   ]
  },
  {
   "cell_type": "code",
   "execution_count": 3,
   "id": "perfect-humor",
   "metadata": {},
   "outputs": [],
   "source": [
    "X,y = make_regression(\n",
    "    n_samples=1000, \n",
    "    n_features=100, \n",
    "    n_informative=10, \n",
    "    noise=0.1,\n",
    "    random_state=1\n",
    ")"
   ]
  },
  {
   "cell_type": "code",
   "execution_count": 7,
   "id": "satellite-secretary",
   "metadata": {},
   "outputs": [],
   "source": [
    "x_train, x_test, y_train, y_test = train_test_split(X,y,test_size=0.33, random_state=1)"
   ]
  },
  {
   "cell_type": "code",
   "execution_count": 10,
   "id": "tender-brave",
   "metadata": {},
   "outputs": [
    {
     "name": "stdout",
     "output_type": "stream",
     "text": [
      "Train (670, 100) (670,)\n",
      "Test (330, 100) (330,)\n"
     ]
    }
   ],
   "source": [
    "print('Train', x_train.shape, y_train.shape)\n",
    "print('Test', x_test.shape, y_test.shape)"
   ]
  },
  {
   "cell_type": "markdown",
   "id": "spoken-hostel",
   "metadata": {
    "tags": [
     "introduction"
    ]
   },
   "source": [
    "## Correlation Feature Selection\n",
    "1. Person - the most commly used"
   ]
  },
  {
   "cell_type": "code",
   "execution_count": 2,
   "id": "supreme-joint",
   "metadata": {},
   "outputs": [],
   "source": [
    "from sklearn.model_selection import train_test_split\n",
    "from sklearn.feature_selection import SelectKBest, f_regression\n",
    "from matplotlib import pyplot as pt"
   ]
  },
  {
   "cell_type": "markdown",
   "id": "professional-elimination",
   "metadata": {},
   "source": [
    "    "
   ]
  },
  {
   "cell_type": "code",
   "execution_count": 4,
   "id": "geological-silver",
   "metadata": {},
   "outputs": [
    {
     "name": "stdout",
     "output_type": "stream",
     "text": [
      "nat\n"
     ]
    }
   ],
   "source": [
    "\n",
    "def feature_selector(df, labels,test_size,percentage , k, selection_function=f_regression):\n",
    "    '''\n",
    "    params: \n",
    "        `df`: DataFrame\n",
    "        `test_size` : test_size from 0 - 1\n",
    "        `percentage` : train and test spliting percentage\n",
    "        `k` : number of features that will be selected\n",
    "        `selection_function` : A selection function if not provided default is f_regression\n",
    "                            from the sklearn.feature_selection module\n",
    "        `labels` : list of column names that the model will try to predict\n",
    "    '''\n",
    "    features = [col for col in df.columns.values if col not in labels]\n",
    "    x_train, x_test, y_train, y_test = train_test_split(df[features] , df[labels], test_size = test_size)\n",
    "    \n",
    "    "
   ]
  }
 ],
 "metadata": {
  "kernelspec": {
   "display_name": "Python 3",
   "language": "python",
   "name": "python3"
  },
  "language_info": {
   "codemirror_mode": {
    "name": "ipython",
    "version": 3
   },
   "file_extension": ".py",
   "mimetype": "text/x-python",
   "name": "python",
   "nbconvert_exporter": "python",
   "pygments_lexer": "ipython3",
   "version": "3.8.6"
  }
 },
 "nbformat": 4,
 "nbformat_minor": 5
}
